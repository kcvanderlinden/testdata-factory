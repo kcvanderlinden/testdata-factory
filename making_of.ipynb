{
 "cells": [
  {
   "cell_type": "code",
   "execution_count": 36,
   "metadata": {},
   "outputs": [],
   "source": [
    "import random\n",
    "import pandas as pd\n",
    "\n",
    "def dict_met_willekeurige_gemeente(veelheid):\n",
    "    gemeenten_wiki = pd.read_csv(\"./Nederlandse_gemeenten.txt\", sep=\" \\t\", header=None)\n",
    "    gemeenten_namen = gemeenten_wiki[0].to_list()\n",
    "\n",
    "    max_gemeenten = len(gemeenten_namen)\n",
    "    return {\"Gemeente\": [gemeenten_namen[random.randrange(0, max_gemeenten)] for x in range(veelheid)]}\n",
    "\n",
    "def dict_met_willekeurige_achternamen(veelheid):\n",
    "    lijst_achternamen_nl = open(\"./Nederlandse_achternamen.txt\").readlines()\n",
    "    lijst_achternamen_nl_schoon = [achternaam_schoon.rstrip() for achternaam_schoon in lijst_achternamen_nl]\n",
    "\n",
    "    max_achternamen = len(lijst_achternamen_nl_schoon)\n",
    "    return {\"Achternaam\": [lijst_achternamen_nl_schoon[random.randrange(0, max_achternamen)] for x in range(veelheid)]}\n",
    "\n",
    "def dict_met_willekeurige_getallen(veelheid, kolomnaam, laag=1, hoog=10):\n",
    "    return {kolomnaam: [random.randrange(laag, hoog) for x in range(veelheid)]}\n",
    "\n",
    "def dict_met_willekeurig_aangepast(veelheid, kolomnaam, aangepaste_lijst):\n",
    "    max_aangepaste_lijst = len(aangepaste_lijst)\n",
    "    return {kolomnaam: [aangepaste_lijst[random.randrange(0, max_aangepaste_lijst)] for x in range(veelheid)]}"
   ]
  },
  {
   "cell_type": "code",
   "execution_count": 50,
   "metadata": {},
   "outputs": [
    {
     "name": "stderr",
     "output_type": "stream",
     "text": [
      "/tmp/ipykernel_15529/3807334565.py:4: ParserWarning: Falling back to the 'python' engine because the 'c' engine does not support regex separators (separators > 1 char and different from '\\s+' are interpreted as regex); you can avoid this warning by specifying engine='python'.\n",
      "  gemeenten_wiki = pd.read_csv(\"./Nederlandse_gemeenten.txt\", sep=\" \\t\", header=None)\n"
     ]
    }
   ],
   "source": [
    "veelheid_van_rijen = 100000\n",
    "a_dict = {}\n",
    "prompt = [\n",
    "    dict_met_willekeurige_achternamen(veelheid_van_rijen),\n",
    "    dict_met_willekeurige_gemeente(veelheid_van_rijen),\n",
    "    dict_met_willekeurige_getallen(veelheid_van_rijen, \"Netto inkomen\", laag=20000, hoog=60000),\n",
    "    dict_met_willekeurig_aangepast(veelheid_van_rijen, \"Geslacht\", [\"Man\", \"Vrouw\"]),\n",
    "    dict_met_willekeurig_aangepast(veelheid_van_rijen, \"Geschoold\", [\"Praktisch\", \"Theoretisch\", \"Onbekend\"]),\n",
    "    dict_met_willekeurig_aangepast(veelheid_van_rijen, \"Favoriete vakantieland\", [\"Nederland\", \"Frankrijk\", \"Italië\", \"Duitsland\", \"Spanje\"]),\n",
    "    dict_met_willekeurige_getallen(veelheid_van_rijen, \"Aantal kinderen\", laag=0, hoog=4),\n",
    "    dict_met_willekeurige_getallen(veelheid_van_rijen, \"Koffie consumpties per dag\", laag=0, hoog=6)\n",
    "]\n",
    "\n",
    "[a_dict.update(x) for x in prompt]\n",
    "pd.DataFrame.from_dict(a_dict).to_excel(\"./willekeurige dataset.xlsx\")"
   ]
  },
  {
   "cell_type": "code",
   "execution_count": null,
   "metadata": {},
   "outputs": [],
   "source": []
  }
 ],
 "metadata": {
  "kernelspec": {
   "display_name": "Python 3",
   "language": "python",
   "name": "python3"
  },
  "language_info": {
   "codemirror_mode": {
    "name": "ipython",
    "version": 3
   },
   "file_extension": ".py",
   "mimetype": "text/x-python",
   "name": "python",
   "nbconvert_exporter": "python",
   "pygments_lexer": "ipython3",
   "version": "3.11.5"
  }
 },
 "nbformat": 4,
 "nbformat_minor": 2
}
